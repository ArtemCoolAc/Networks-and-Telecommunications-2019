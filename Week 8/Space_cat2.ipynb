{
 "cells": [
  {
   "cell_type": "code",
   "execution_count": 1,
   "metadata": {},
   "outputs": [],
   "source": [
    "import random\n",
    "import copy\n",
    "import pprint\n",
    "import time"
   ]
  },
  {
   "cell_type": "code",
   "execution_count": 23,
   "metadata": {},
   "outputs": [],
   "source": [
    "mttca = 345\n",
    "n = 6\n",
    "mttbr = 10\n",
    "alpha = 1/mttca\n",
    "beta = 1/mttbr"
   ]
  },
  {
   "cell_type": "code",
   "execution_count": 24,
   "metadata": {},
   "outputs": [
    {
     "name": "stdout",
     "output_type": "stream",
     "text": [
      "[[0.9826086956521739, 0.017391304347826087, 0],\n",
      " [0.1, 0.8855072463768117, 0.014492753623188406],\n",
      " [0, 0, 1]]\n"
     ]
    }
   ],
   "source": [
    "matrix = [[1-n*alpha, n*alpha, 0],\n",
    "          [beta, 1-beta-alpha*(n-1), alpha*(n-1)],\n",
    "          [0,0,1]]\n",
    "pprint.pprint(matrix)"
   ]
  },
  {
   "cell_type": "code",
   "execution_count": 25,
   "metadata": {},
   "outputs": [
    {
     "name": "stdout",
     "output_type": "stream",
     "text": [
      "[[0.9826086956521739, 1.0, 1.0], [0.1, 0.9855072463768116, 1.0], [0, 0, 1.0]]\n"
     ]
    }
   ],
   "source": [
    "matrix_intervals = copy.deepcopy(matrix)\n",
    "for x in matrix_intervals:\n",
    "    for j in range(len(x)):\n",
    "        if j!=0:\n",
    "            x[j] += x[j-1]\n",
    "    x[-1] = 1.0\n",
    "pprint.pprint(matrix_intervals)"
   ]
  },
  {
   "cell_type": "code",
   "execution_count": 6,
   "metadata": {},
   "outputs": [],
   "source": [
    "class MyFiniteStateMachine(object):\n",
    "    def __init__(self, matrix):\n",
    "        self.states = ['0', '1', '2']\n",
    "        self.transitions = {'0': ['0', '1'], '1': ['0', '1', '2'], '2': ['2']}\n",
    "        self.current = '0'\n",
    "        self.time = 0\n",
    "        self.matrix = matrix\n",
    "        self.count_for_state1 = 0\n",
    "    def transition(self, stateA, stateB):\n",
    "        #print('Состояние А - {}, состояние B - {}, счетчик - {}'.format(stateA, stateB, self.count_for_state1))\n",
    "        if self.current == stateA:\n",
    "            index = self.transitions[stateA].index(stateB)\n",
    "            self.current = stateB\n",
    "            if stateA == '1' and self.count_for_state1 != mttbr and stateB != '2':\n",
    "                print('Процесс восстановления')\n",
    "                self.current = '1'\n",
    "            elif self.current != '2' and self.count_for_state1 == mttbr:\n",
    "                print('СТОП! ВОССТАНОВИЛИ')\n",
    "                print('Счетчик достиг пика {} и был сброшен'.format(self.count_for_state1))\n",
    "                self.current = '0'\n",
    "                self.count_for_state1 = 0\n",
    "                #print('Теперь система в состоянии {} и счетчик {}'.format(self.current, self.count_for_state1))\n",
    "            print('Я сделаль переход {} -> {}, счетчик {}'.format(stateA, self.current, self.count_for_state1))\n",
    "\n",
    "    def make_transition(self):\n",
    "        self.time += 1\n",
    "        if self.current == '1':\n",
    "            self.count_for_state1 += 1\n",
    "        gen_prob = random.random()\n",
    "        print('Текущее состояние {}, вероятность {}'.format(self.current, gen_prob))\n",
    "        prev = self.current\n",
    "        row = self.matrix[int(self.current)]\n",
    "        print(row)\n",
    "        for i in range(len(row)):\n",
    "            if gen_prob < row[i]:\n",
    "                print('Надо перейти в состояние {}'.format(str(i)))\n",
    "                if self.count_for_state1 != mttbr:\n",
    "                    self.transition(self.current, str(i))\n",
    "                else:\n",
    "                    if i == 2:\n",
    "                        self.count_for_state1 = 0\n",
    "                        self.transition(self.current, self.current)                        \n",
    "                    else:\n",
    "                        self.transition(self.current, str(i))\n",
    "                break\n",
    "    def reset(self):\n",
    "        self.time = 0\n",
    "        self.current = '0'\n",
    "        self.count_for_state1 = 0\n",
    "    def one_full_situation(self):\n",
    "        self.reset()\n",
    "        while (self.current != '2'):\n",
    "            self.make_transition()\n",
    "        print('Время жизни {}'.format(self.time))\n",
    "        return self.time"
   ]
  },
  {
   "cell_type": "code",
   "execution_count": 7,
   "metadata": {},
   "outputs": [
    {
     "name": "stdout",
     "output_type": "stream",
     "text": [
      "[[0.8913043478260869, 1.0, 1.0], [0.14285714285714285, 0.9021739130434783, 1.0], [0, 0, 1.0]]\n",
      "Текущее состояние 0, вероятность 0.47228416612028656\n",
      "[0.8913043478260869, 1.0, 1.0]\n",
      "Надо перейти в состояние 0\n",
      "Я сделаль переход 0 -> 0, счетчик 0\n",
      "Текущее состояние 0, вероятность 0.05333549462030773\n",
      "[0.8913043478260869, 1.0, 1.0]\n",
      "Надо перейти в состояние 0\n",
      "Я сделаль переход 0 -> 0, счетчик 0\n",
      "Текущее состояние 0, вероятность 0.6621527881262614\n",
      "[0.8913043478260869, 1.0, 1.0]\n",
      "Надо перейти в состояние 0\n",
      "Я сделаль переход 0 -> 0, счетчик 0\n",
      "Текущее состояние 0, вероятность 0.3172106307322813\n",
      "[0.8913043478260869, 1.0, 1.0]\n",
      "Надо перейти в состояние 0\n",
      "Я сделаль переход 0 -> 0, счетчик 0\n",
      "Текущее состояние 0, вероятность 0.39029272295448125\n",
      "[0.8913043478260869, 1.0, 1.0]\n",
      "Надо перейти в состояние 0\n",
      "Я сделаль переход 0 -> 0, счетчик 0\n",
      "Текущее состояние 0, вероятность 0.6881383775559939\n",
      "[0.8913043478260869, 1.0, 1.0]\n",
      "Надо перейти в состояние 0\n",
      "Я сделаль переход 0 -> 0, счетчик 0\n",
      "Текущее состояние 0, вероятность 0.9732572135670271\n",
      "[0.8913043478260869, 1.0, 1.0]\n",
      "Надо перейти в состояние 1\n",
      "Я сделаль переход 0 -> 1, счетчик 0\n",
      "Текущее состояние 1, вероятность 0.5036692634906824\n",
      "[0.14285714285714285, 0.9021739130434783, 1.0]\n",
      "Надо перейти в состояние 1\n",
      "Процесс восстановления\n",
      "Я сделаль переход 1 -> 1, счетчик 1\n",
      "Текущее состояние 1, вероятность 0.9488904452451873\n",
      "[0.14285714285714285, 0.9021739130434783, 1.0]\n",
      "Надо перейти в состояние 2\n",
      "Я сделаль переход 1 -> 2, счетчик 2\n",
      "Время жизни 9\n"
     ]
    },
    {
     "data": {
      "text/plain": [
       "9"
      ]
     },
     "execution_count": 7,
     "metadata": {},
     "output_type": "execute_result"
    }
   ],
   "source": [
    "print(matrix_intervals)\n",
    "fsm228 = MyFiniteStateMachine(matrix_intervals)\n",
    "fsm228.one_full_situation()"
   ]
  },
  {
   "cell_type": "code",
   "execution_count": 114,
   "metadata": {},
   "outputs": [],
   "source": [
    "def statitics(quantity, matrix_intervals):\n",
    "    summ = 0\n",
    "    for i in range(quantity):\n",
    "        fsm11 = MyFiniteStateMachine(matrix_intervals)\n",
    "        time = fsm11.one_full_situation()\n",
    "        summ += time\n",
    "    return summ/quantity"
   ]
  },
  {
   "cell_type": "code",
   "execution_count": 115,
   "metadata": {},
   "outputs": [
    {
     "name": "stdout",
     "output_type": "stream",
     "text": [
      "Среднее время жизни пакета 30.276159, потрачено 99.24562949495245с\n"
     ]
    }
   ],
   "source": [
    "start = time.clock()\n",
    "average = statitics(1000000, matrix_intervals)\n",
    "finish = time.clock()\n",
    "print('Среднее время жизни пакета {}, потрачено {}с'.format(average, finish-start))"
   ]
  },
  {
   "cell_type": "code",
   "execution_count": 116,
   "metadata": {},
   "outputs": [
    {
     "name": "stdout",
     "output_type": "stream",
     "text": [
      "0.8122124116918806\n"
     ]
    }
   ],
   "source": [
    "IA = average / (average + mttbr)\n",
    "print(IA)"
   ]
  },
  {
   "cell_type": "code",
   "execution_count": 5,
   "metadata": {},
   "outputs": [],
   "source": [
    "class MyFiniteStateMachineTrue(object):\n",
    "    def __init__(self, matrix):\n",
    "        self.states = ['0', '1', '2']\n",
    "        self.transitions = {'0': ['0', '1'], '1': ['0', '1', '2'], '2': ['2']}\n",
    "        self.current = '0'\n",
    "        self.time = 0\n",
    "        self.matrix = matrix\n",
    "    def transition(self, stateA, stateB):\n",
    "            self.current = stateB\n",
    "            #print('Я сделаль переход {} -> {}'.format(stateA, self.current))\n",
    "    def make_transition(self):\n",
    "        self.time += 1\n",
    "        gen_prob = random.random()\n",
    "        #print('Текущее состояние {}, вероятность {}'.format(self.current, gen_prob))\n",
    "        prev = self.current\n",
    "        row = self.matrix[int(self.current)]\n",
    "        #print(row)\n",
    "        for i in range(len(row)):\n",
    "            if gen_prob < row[i]:\n",
    "                #print('Надо перейти в состояние {}'.format(str(i)))\n",
    "                self.transition(self.current, str(i))\n",
    "                break\n",
    "    def reset(self):\n",
    "        self.time = 0\n",
    "        self.current = '0'\n",
    "    def one_full_situation(self):\n",
    "        self.reset()\n",
    "        while (self.current != '2'):\n",
    "            self.make_transition()\n",
    "        #print('Время жизни {}'.format(self.time))\n",
    "        return self.time"
   ]
  },
  {
   "cell_type": "code",
   "execution_count": 28,
   "metadata": {},
   "outputs": [
    {
     "data": {
      "text/plain": [
       "412"
      ]
     },
     "execution_count": 28,
     "metadata": {},
     "output_type": "execute_result"
    }
   ],
   "source": [
    "fsm13 = MyFiniteStateMachineTrue(matrix_intervals)\n",
    "fsm13.one_full_situation()"
   ]
  },
  {
   "cell_type": "code",
   "execution_count": 10,
   "metadata": {},
   "outputs": [],
   "source": [
    "def statisticsTrue(quantity, matrix_intervals):\n",
    "    summ = 0\n",
    "    for i in range(quantity):\n",
    "        fsm11 = MyFiniteStateMachineTrue(matrix_intervals)\n",
    "        time = fsm11.one_full_situation()\n",
    "        summ += time\n",
    "    return summ/quantity"
   ]
  },
  {
   "cell_type": "code",
   "execution_count": 8,
   "metadata": {},
   "outputs": [
    {
     "name": "stdout",
     "output_type": "stream",
     "text": [
      "Среднее время жизни пакета 523.546606, потрачено 1124.4815172686817с\n"
     ]
    }
   ],
   "source": [
    "start1 = time.clock()\n",
    "average1 = statisticsTrue(1000000, matrix_intervals)\n",
    "finish1 = time.clock()\n",
    "print('Среднее время жизни пакета {}, потрачено {}с'.format(average1, finish1-start1))"
   ]
  },
  {
   "cell_type": "code",
   "execution_count": 18,
   "metadata": {},
   "outputs": [
    {
     "name": "stdout",
     "output_type": "stream",
     "text": [
      "Среднее время жизни пакета 523.48238, потрачено 115.17813000202841с\n"
     ]
    }
   ],
   "source": [
    "start2 = time.clock()\n",
    "average2 = statisticsTrue(100000, matrix_intervals)\n",
    "finish2 = time.clock()\n",
    "print('Среднее время жизни пакета {}, потрачено {}с'.format(average2, finish2-start2))"
   ]
  },
  {
   "cell_type": "code",
   "execution_count": 30,
   "metadata": {},
   "outputs": [
    {
     "name": "stdout",
     "output_type": "stream",
     "text": [
      "Коэффициент доступности информации 0.981257494870092\n"
     ]
    }
   ],
   "source": [
    "IA = average1 / (average1 + mttbr)\n",
    "print('Коэффициент доступности информации {}'.format(IA))"
   ]
  },
  {
   "cell_type": "code",
   "execution_count": 29,
   "metadata": {},
   "outputs": [
    {
     "name": "stdout",
     "output_type": "stream",
     "text": [
      "Среднее время жизни пакета 524.13597, потрачено 135.26340916255504с\n"
     ]
    }
   ],
   "source": [
    "startfun = time.clock()\n",
    "averagefun = statisticsTrue(100000, matrix_intervals)\n",
    "finishfun = time.clock()\n",
    "print('Среднее время жизни пакета {}, потрачено {}с'.format(averagefun, finishfun-startfun))"
   ]
  },
  {
   "cell_type": "code",
   "execution_count": null,
   "metadata": {},
   "outputs": [],
   "source": []
  }
 ],
 "metadata": {
  "kernelspec": {
   "display_name": "Python 3",
   "language": "python",
   "name": "python3"
  },
  "language_info": {
   "codemirror_mode": {
    "name": "ipython",
    "version": 3
   },
   "file_extension": ".py",
   "mimetype": "text/x-python",
   "name": "python",
   "nbconvert_exporter": "python",
   "pygments_lexer": "ipython3",
   "version": "3.6.5"
  }
 },
 "nbformat": 4,
 "nbformat_minor": 2
}
