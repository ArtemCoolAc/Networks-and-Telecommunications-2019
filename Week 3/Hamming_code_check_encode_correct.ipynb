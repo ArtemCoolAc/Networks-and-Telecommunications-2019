{
 "cells": [
  {
   "cell_type": "code",
   "execution_count": 1,
   "metadata": {},
   "outputs": [
    {
     "name": "stdout",
     "output_type": "stream",
     "text": [
      "The Zen of Python, by Tim Peters\n",
      "\n",
      "Beautiful is better than ugly.\n",
      "Explicit is better than implicit.\n",
      "Simple is better than complex.\n",
      "Complex is better than complicated.\n",
      "Flat is better than nested.\n",
      "Sparse is better than dense.\n",
      "Readability counts.\n",
      "Special cases aren't special enough to break the rules.\n",
      "Although practicality beats purity.\n",
      "Errors should never pass silently.\n",
      "Unless explicitly silenced.\n",
      "In the face of ambiguity, refuse the temptation to guess.\n",
      "There should be one-- and preferably only one --obvious way to do it.\n",
      "Although that way may not be obvious at first unless you're Dutch.\n",
      "Now is better than never.\n",
      "Although never is often better than *right* now.\n",
      "If the implementation is hard to explain, it's a bad idea.\n",
      "If the implementation is easy to explain, it may be a good idea.\n",
      "Namespaces are one honking great idea -- let's do more of those!\n",
      "['010101001010111100011001', '010010000010110010010101', '000000100001111110011010', '110010010110011010010001', '000110010100110001001100', '001100110000110111100110', '101000100101000000001101', '100111000111011000001001', '100011010100110101101001', '101100010000100101001110', '000111101000000110001010', '000111110110000000010000']\n",
      "['100110001111010100101010', '101010010011010000010010', '010110011111100001000000', '100010010110011010010011', '001100100011001010011000', '011001111011000011001100', '101100000000101001000101', '100100000110111000111001', '100101101011001010110001', '011100101001000010001101', '010100011000000101111000', '000010000000011011111000']\n"
     ]
    }
   ],
   "source": [
    "import copy\n",
    "import this\n",
    "code_word_length = 24\n",
    "message = list([84, 175, 25, 72, 44, 149, 2, 31, 154, 201, 102, 145, 25, 76, 76, 51, 13, 230, 162, 80, 13, 156, 118, 9, 141, 77, 105, 177, 9, 78, 30, 129, 138, 31, 96, 16])\n",
    "\n",
    "string = str()\n",
    "for i in range(len(message)):\n",
    "    string += str(bin(message[i])[2:].zfill(8)) # делаем бинарное преобразование\n",
    "\n",
    "parts=[]\n",
    "con = len(string) % code_word_length\n",
    "if con != 0:\n",
    "    con = 1\n",
    "\n",
    "for i in range(len(string) // code_word_length + con): # разбиваем на кодовые слова по 24 бит\n",
    "    parts.append(string[(code_word_length*i):(code_word_length*(i+1))])\n",
    "reversed_parts = copy.deepcopy(parts)\n",
    "parts[-1] = parts[-1].ljust(code_word_length, '0')\n",
    "for i in range(len(reversed_parts)):\n",
    "    reversed_parts[i] = reversed_parts[i][::-1]\n",
    "reversed_parts[-1] = reversed_parts[-1].ljust(code_word_length, '0')\n",
    "print(parts)\n",
    "print(reversed_parts) # но в итоге ещё в каждом кодовом реверс делаем"
   ]
  },
  {
   "cell_type": "code",
   "execution_count": 177,
   "metadata": {},
   "outputs": [],
   "source": [
    "bits = [0,1,3,7,15]\n",
    "controlled_bits = dict()"
   ]
  },
  {
   "cell_type": "code",
   "execution_count": 178,
   "metadata": {},
   "outputs": [],
   "source": [
    "for k in range(5):\n",
    "    n = bits[k]\n",
    "    controlled_bits[n] = list()\n",
    "    for i in range(n, code_word_length, (n+1)*2):\n",
    "        for j in range ((n+1)*2):\n",
    "            ind = i + j\n",
    "            if j < (n+1) and ind < code_word_length:\n",
    "                controlled_bits[n].append(ind)"
   ]
  },
  {
   "cell_type": "code",
   "execution_count": 179,
   "metadata": {},
   "outputs": [],
   "source": [
    "def count_control_sum(n, parts): # вычисляем контрольную сумму\n",
    "    control_sum = list()\n",
    "    for i in range(5):\n",
    "        m = bits[i]\n",
    "        control_sum.append(0)\n",
    "        for j in range(len(controlled_bits[m])):\n",
    "            control_sum[i] += int(parts[n][controlled_bits[m][j]])\n",
    "        control_sum[i] = control_sum[i] % 2\n",
    "    return control_sum"
   ]
  },
  {
   "cell_type": "code",
   "execution_count": 180,
   "metadata": {},
   "outputs": [],
   "source": [
    "def full_sums(parts): # здесь все контрольые суммы\n",
    "    sums = dict()\n",
    "    for i in range(len(parts)):\n",
    "        one_sum = count_control_sum(i, parts)\n",
    "        sums[i] = one_sum\n",
    "    return sums"
   ]
  },
  {
   "cell_type": "code",
   "execution_count": 181,
   "metadata": {},
   "outputs": [
    {
     "name": "stdout",
     "output_type": "stream",
     "text": [
      "{0: [1, 1, 0, 1, 0], 1: [1, 0, 1, 0, 0], 2: [0, 0, 0, 0, 1], 3: [0, 1, 1, 0, 0], 4: [0, 0, 0, 1, 1], 5: [0, 1, 1, 0, 0], 6: [0, 0, 0, 1, 1], 7: [0, 1, 0, 0, 0], 8: [1, 1, 0, 1, 0], 9: [1, 0, 1, 1, 0], 10: [1, 1, 1, 0, 1], 11: [1, 0, 1, 0, 1]}\n"
     ]
    }
   ],
   "source": [
    "reversed_sums = full_sums(reversed_parts)\n",
    "print(reversed_sums)"
   ]
  },
  {
   "cell_type": "code",
   "execution_count": 182,
   "metadata": {},
   "outputs": [],
   "source": [
    "def get_positions(sums): # превращаем все это в неверные позиции\n",
    "    positions = dict()\n",
    "    for i in range(len(sums)):\n",
    "        positions[i] = str()\n",
    "        sums[i].reverse()\n",
    "        for j in range(len(sums[i])):\n",
    "            positions[i] += (str(sums[i][j]))\n",
    "    #print(positions)\n",
    "    return positions"
   ]
  },
  {
   "cell_type": "code",
   "execution_count": 183,
   "metadata": {},
   "outputs": [],
   "source": [
    "reversed_positions = get_positions(reversed_sums)"
   ]
  },
  {
   "cell_type": "code",
   "execution_count": 184,
   "metadata": {},
   "outputs": [],
   "source": [
    "def decode_straight_positions(positions): # декодируем в нормальный 10-ый вид\n",
    "    for i in range(len(positions)):\n",
    "        positions[i] = int(positions[i],2)\n",
    "    return positions"
   ]
  },
  {
   "cell_type": "code",
   "execution_count": 185,
   "metadata": {},
   "outputs": [
    {
     "name": "stdout",
     "output_type": "stream",
     "text": [
      "{0: 11, 1: 5, 2: 16, 3: 6, 4: 24, 5: 6, 6: 24, 7: 2, 8: 11, 9: 13, 10: 23, 11: 21}\n"
     ]
    }
   ],
   "source": [
    "decimal_reversed_positions = decode_straight_positions(reversed_positions)\n",
    "print(decimal_reversed_positions)\n",
    "for i in range(len(decimal_reversed_positions)):\n",
    "    if decimal_reversed_positions[i] != 0:\n",
    "        decimal_reversed_positions[i] -= 1 # позиции по коду Хемминга нумеруются с 1, надо -1 сделать"
   ]
  },
  {
   "cell_type": "code",
   "execution_count": 186,
   "metadata": {},
   "outputs": [],
   "source": [
    "def correct_mistakes(positions, parts): # исправляем ошибки\n",
    "    for i in range(len(parts)):\n",
    "        if positions[i] < code_word_length:\n",
    "            b = int(parts[i][positions[i]])\n",
    "            b = str((b + 1) % 2)\n",
    "            parts[i] = parts[i][:positions[i]] + b + parts[i][positions[i]+1:]\n",
    "    return parts\n",
    "        "
   ]
  },
  {
   "cell_type": "code",
   "execution_count": 187,
   "metadata": {},
   "outputs": [
    {
     "name": "stdout",
     "output_type": "stream",
     "text": [
      "['100110001111010100101010', '101010010011010000010010', '010110011111100001000000', '100010010110011010010011', '001100100011001010011000', '011001111011000011001100', '101100000000101001000101', '100100000110111000111001', '100101101011001010110001', '011100101001000010001101', '010100011000000101111000', '000010000000011011111000']\n"
     ]
    }
   ],
   "source": [
    "print(reversed_parts)"
   ]
  },
  {
   "cell_type": "code",
   "execution_count": 188,
   "metadata": {},
   "outputs": [
    {
     "name": "stdout",
     "output_type": "stream",
     "text": [
      "['100110001101010100101010', '101000010011010000010010', '010110011111100101000000', '100011010110011010010011', '001100100011001010011001', '011000111011000011001100', '101100000000101001000100', '110100000110111000111001', '100101101001001010110001', '011100101001100010001101', '010100011000000101111010', '000010000000011011110000']\n"
     ]
    }
   ],
   "source": [
    "correct_mistakes(decimal_reversed_positions, reversed_parts)\n",
    "print(reversed_parts)"
   ]
  },
  {
   "cell_type": "code",
   "execution_count": 189,
   "metadata": {},
   "outputs": [],
   "source": [
    "def delete_control_bits(parts): # удаляем контрольные биты\n",
    "    decoded_strings = list()\n",
    "    for i in range(len(parts)):\n",
    "        string = str()\n",
    "        for j in range(len(parts[i])):\n",
    "            if j not in bits:\n",
    "                string += parts[i][j]\n",
    "        decoded_strings.append(string)\n",
    "    binary_message = ''.join(decoded_strings)\n",
    "    return binary_message"
   ]
  },
  {
   "cell_type": "code",
   "execution_count": 190,
   "metadata": {
    "scrolled": true
   },
   "outputs": [
    {
     "name": "stdout",
     "output_type": "stream",
     "text": [
      "010011010100010101010000011010000100100100111110001000000011001100111001001110010011001100110011001101100011001100100000001010100010000000110111001110010011100100110110001100110011001000110100001000000011110100100000001111110000\n",
      "228\n"
     ]
    }
   ],
   "source": [
    "binary_reversed_message = delete_control_bits(reversed_parts)\n",
    "print(binary_reversed_message)\n",
    "print(len(binary_reversed_message))"
   ]
  },
  {
   "cell_type": "code",
   "execution_count": 191,
   "metadata": {},
   "outputs": [],
   "source": [
    "def transform_to_letter_message(binary_message): # постепенно превращаем в бинарное, десятичное и буквенное сообщение\n",
    "    print(len(binary_message))\n",
    "    cons = len(binary_message) % 8\n",
    "    splited_message = []\n",
    "    for i in range(len(binary_message) // 8):\n",
    "        splited_message.append(binary_message[(8*i):(8*(i+1))])\n",
    "    splited_message[-1].zfill(8)\n",
    "    print(splited_message)\n",
    "    numbers_message = []\n",
    "    for i in range(len(splited_message)):\n",
    "        numbers_message.append(int(splited_message[i],2))\n",
    "    print(numbers_message)\n",
    "    letter_message = []\n",
    "    for i in range(len(splited_message)):\n",
    "        letter_message.append(chr(numbers_message[i]))\n",
    "    print(letter_message)\n",
    "    decoded_message = ''.join(letter_message)\n",
    "    print(decoded_message)\n",
    "    return splited_message, numbers_message, letter_message"
   ]
  },
  {
   "cell_type": "code",
   "execution_count": 192,
   "metadata": {},
   "outputs": [
    {
     "name": "stdout",
     "output_type": "stream",
     "text": [
      "228\n",
      "['01001101', '01000101', '01010000', '01101000', '01001001', '00111110', '00100000', '00110011', '00111001', '00111001', '00110011', '00110011', '00110110', '00110011', '00100000', '00101010', '00100000', '00110111', '00111001', '00111001', '00110110', '00110011', '00110010', '00110100', '00100000', '00111101', '00100000', '00111111']\n",
      "[77, 69, 80, 104, 73, 62, 32, 51, 57, 57, 51, 51, 54, 51, 32, 42, 32, 55, 57, 57, 54, 51, 50, 52, 32, 61, 32, 63]\n",
      "['M', 'E', 'P', 'h', 'I', '>', ' ', '3', '9', '9', '3', '3', '6', '3', ' ', '*', ' ', '7', '9', '9', '6', '3', '2', '4', ' ', '=', ' ', '?']\n",
      "MEPhI> 3993363 * 7996324 = ?\n"
     ]
    },
    {
     "data": {
      "text/plain": [
       "(['01001101',\n",
       "  '01000101',\n",
       "  '01010000',\n",
       "  '01101000',\n",
       "  '01001001',\n",
       "  '00111110',\n",
       "  '00100000',\n",
       "  '00110011',\n",
       "  '00111001',\n",
       "  '00111001',\n",
       "  '00110011',\n",
       "  '00110011',\n",
       "  '00110110',\n",
       "  '00110011',\n",
       "  '00100000',\n",
       "  '00101010',\n",
       "  '00100000',\n",
       "  '00110111',\n",
       "  '00111001',\n",
       "  '00111001',\n",
       "  '00110110',\n",
       "  '00110011',\n",
       "  '00110010',\n",
       "  '00110100',\n",
       "  '00100000',\n",
       "  '00111101',\n",
       "  '00100000',\n",
       "  '00111111'],\n",
       " [77,\n",
       "  69,\n",
       "  80,\n",
       "  104,\n",
       "  73,\n",
       "  62,\n",
       "  32,\n",
       "  51,\n",
       "  57,\n",
       "  57,\n",
       "  51,\n",
       "  51,\n",
       "  54,\n",
       "  51,\n",
       "  32,\n",
       "  42,\n",
       "  32,\n",
       "  55,\n",
       "  57,\n",
       "  57,\n",
       "  54,\n",
       "  51,\n",
       "  50,\n",
       "  52,\n",
       "  32,\n",
       "  61,\n",
       "  32,\n",
       "  63],\n",
       " ['M',\n",
       "  'E',\n",
       "  'P',\n",
       "  'h',\n",
       "  'I',\n",
       "  '>',\n",
       "  ' ',\n",
       "  '3',\n",
       "  '9',\n",
       "  '9',\n",
       "  '3',\n",
       "  '3',\n",
       "  '6',\n",
       "  '3',\n",
       "  ' ',\n",
       "  '*',\n",
       "  ' ',\n",
       "  '7',\n",
       "  '9',\n",
       "  '9',\n",
       "  '6',\n",
       "  '3',\n",
       "  '2',\n",
       "  '4',\n",
       "  ' ',\n",
       "  '=',\n",
       "  ' ',\n",
       "  '?'])"
      ]
     },
     "execution_count": 192,
     "metadata": {},
     "output_type": "execute_result"
    }
   ],
   "source": [
    "transform_to_letter_message(binary_reversed_message)"
   ]
  },
  {
   "cell_type": "code",
   "execution_count": 61,
   "metadata": {},
   "outputs": [],
   "source": [
    "l1p2 = 'MEPhI> 3993363 * 7996324 = ?'"
   ]
  },
  {
   "cell_type": "code",
   "execution_count": 146,
   "metadata": {},
   "outputs": [],
   "source": [
    "answer = '31932224397612'"
   ]
  },
  {
   "cell_type": "code",
   "execution_count": 147,
   "metadata": {},
   "outputs": [],
   "source": [
    "#answer = '31932224397612'"
   ]
  },
  {
   "cell_type": "code",
   "execution_count": 148,
   "metadata": {},
   "outputs": [
    {
     "name": "stdout",
     "output_type": "stream",
     "text": [
      "['3', '1', '9', '3', '2', '2', '2', '4', '3', '9', '7', '6', '1', '2']\n"
     ]
    }
   ],
   "source": [
    "answer_parts = list(str(answer))\n",
    "print(answer_parts)"
   ]
  },
  {
   "cell_type": "code",
   "execution_count": 149,
   "metadata": {},
   "outputs": [
    {
     "name": "stdout",
     "output_type": "stream",
     "text": [
      "['00110011', '00110001', '00111001', '00110011', '00110010', '00110010', '00110010', '00110100', '00110011', '00111001', '00110111', '00110110', '00110001', '00110010']\n"
     ]
    }
   ],
   "source": [
    "for i in range(len(answer_parts)):\n",
    "    answer_parts[i] = bin(ord(answer_parts[i]))[2:].zfill(8)\n",
    "print(answer_parts)"
   ]
  },
  {
   "cell_type": "code",
   "execution_count": 150,
   "metadata": {},
   "outputs": [
    {
     "name": "stdout",
     "output_type": "stream",
     "text": [
      "0011001100110001001110010011001100110010001100100011001000110100001100110011100100110111001101100011000100110010\n"
     ]
    }
   ],
   "source": [
    "bin_answer = ''.join(answer_parts) # далее делаем +- обратную процедуру\n",
    "print(bin_answer)"
   ]
  },
  {
   "cell_type": "code",
   "execution_count": 151,
   "metadata": {},
   "outputs": [
    {
     "name": "stdout",
     "output_type": "stream",
     "text": [
      "1\n",
      "5\n",
      "['0011001100110001001', '1100100110011001100', '1000110010001100100', '0110100001100110011', '1001001101110011011', '0001100010011001000']\n"
     ]
    }
   ],
   "source": [
    "bin_answer_parts = []\n",
    "cons = len(bin_answer) % (code_word_length - len(bits))\n",
    "if cons != 0:\n",
    "    cons = 1\n",
    "print(cons)\n",
    "print(len(bin_answer) // (code_word_length - len(bits)))\n",
    "for i in range(len(bin_answer) // (code_word_length - len(bits)) + cons):\n",
    "    bin_answer_parts.append(bin_answer[((code_word_length-len(bits))*i):((code_word_length-len(bits))*(i+1))])\n",
    "#bin_answer_parts[-1] = str(bin(int(bin_answer_parts[-1],2))[2:].zfill(19))\n",
    "#bin_answer_parts[-1] = str(bin(int(bin_answer_parts[-1],2))[2:]).ljust(19,'0')\n",
    "bin_answer_parts[-1] = bin_answer_parts[-1].ljust(code_word_length - len(bits), '0')\n",
    "print(bin_answer_parts)"
   ]
  },
  {
   "cell_type": "code",
   "execution_count": 152,
   "metadata": {},
   "outputs": [],
   "source": [
    "def fulfill(bin_answer_parts): # дозаполняем 0 вместо контрольных битов\n",
    "    for i in range(len(bin_answer_parts)):\n",
    "        bin_answer_parts[i] = '00' + bin_answer_parts[i]\n",
    "        bin_answer_parts[i] = bin_answer_parts[i][:3] + '0' + bin_answer_parts[i][3:6] + '0' + bin_answer_parts[i][6:13] + '0' + bin_answer_parts[i][13:]\n",
    "    print(bin_answer_parts)\n",
    "    return bin_answer_parts    "
   ]
  },
  {
   "cell_type": "code",
   "execution_count": 153,
   "metadata": {},
   "outputs": [
    {
     "name": "stdout",
     "output_type": "stream",
     "text": [
      "['000001100011001010001001', '001010001001100011001100', '001000001100100001100100', '000011001000011000110011', '001000100011011010011011', '000000101000100011001000']\n"
     ]
    }
   ],
   "source": [
    "bin_answer_parts = fulfill(bin_answer_parts)\n",
    "#bin_answer_parts[-1] = bin_answer_parts[-1].ljust(code_word_length, '0')"
   ]
  },
  {
   "cell_type": "code",
   "execution_count": 154,
   "metadata": {},
   "outputs": [
    {
     "name": "stdout",
     "output_type": "stream",
     "text": [
      "{0: [1, 0, 1, 0, 1], 1: [0, 1, 1, 1, 0], 2: [0, 1, 0, 1, 1], 3: [1, 1, 0, 0, 0], 4: [1, 0, 1, 1, 1], 5: [1, 0, 1, 0, 1]}\n"
     ]
    }
   ],
   "source": [
    "control_sums = dict()\n",
    "control_sums = full_sums(bin_answer_parts) # считаем контрольные суммы\n",
    "print(control_sums)"
   ]
  },
  {
   "cell_type": "code",
   "execution_count": 155,
   "metadata": {},
   "outputs": [],
   "source": [
    "def put_control_bits(bin_answer_parts, control_sums): # вставляем контрольные биты\n",
    "    for i in range(len(bin_answer_parts)):\n",
    "        for j in range(len(bits)):\n",
    "            n = bits[j]\n",
    "            if control_sums[i][j] < code_word_length:\n",
    "                bin_answer_parts[i] = bin_answer_parts[i][:n] + str(control_sums[i][j]) + bin_answer_parts[i][n+1:]\n",
    "    return bin_answer_parts"
   ]
  },
  {
   "cell_type": "code",
   "execution_count": 156,
   "metadata": {},
   "outputs": [
    {
     "name": "stdout",
     "output_type": "stream",
     "text": [
      "['100101100011001110001001', '011110011001100011001100', '011000011100100101100100', '110011001000011000110011', '101100110011011110011011', '100100101000100111001000']\n"
     ]
    }
   ],
   "source": [
    "bin_answer_parts = put_control_bits(bin_answer_parts, control_sums)\n",
    "print(bin_answer_parts)"
   ]
  },
  {
   "cell_type": "code",
   "execution_count": 157,
   "metadata": {},
   "outputs": [
    {
     "name": "stdout",
     "output_type": "stream",
     "text": [
      "100100011100110001101001001100110001100110011110001001101001001110000110110011000110000100110011110110011110110011001101000100111001000101001001\n"
     ]
    }
   ],
   "source": [
    "for i in range(len(bin_answer_parts)):\n",
    "    bin_answer_parts[i] = bin_answer_parts[i][::-1]\n",
    "bin_coded_answer = ''.join(bin_answer_parts)\n",
    "print(bin_coded_answer)"
   ]
  },
  {
   "cell_type": "code",
   "execution_count": 158,
   "metadata": {},
   "outputs": [
    {
     "name": "stdout",
     "output_type": "stream",
     "text": [
      "['10010001', '11001100', '01101001', '00110011', '00011001', '10011110', '00100110', '10010011', '10000110', '11001100', '01100001', '00110011', '11011001', '11101100', '11001101', '00010011', '10010001', '01001001']\n",
      "[145, 204, 105, 51, 25, 158, 38, 147, 134, 204, 97, 51, 217, 236, 205, 19, 145, 73]\n"
     ]
    }
   ],
   "source": [
    "const = len(bin_coded_answer) % 8\n",
    "if const != 0:\n",
    "    const = 1\n",
    "coded_binary_parts = []\n",
    "for i in range(len(bin_coded_answer) // 8 + const):\n",
    "    coded_binary_parts.append(bin_coded_answer[(8*i):(8*(i+1))])\n",
    "print(coded_binary_parts)\n",
    "coded_decimal_parts = copy.deepcopy(coded_binary_parts)\n",
    "for i in range(len(coded_decimal_parts)):\n",
    "    coded_decimal_parts[i] = int(coded_decimal_parts[i],2)\n",
    "print(coded_decimal_parts)"
   ]
  },
  {
   "cell_type": "code",
   "execution_count": null,
   "metadata": {},
   "outputs": [],
   "source": []
  },
  {
   "cell_type": "code",
   "execution_count": null,
   "metadata": {},
   "outputs": [],
   "source": []
  }
 ],
 "metadata": {
  "kernelspec": {
   "display_name": "Python 3",
   "language": "python",
   "name": "python3"
  },
  "language_info": {
   "codemirror_mode": {
    "name": "ipython",
    "version": 3
   },
   "file_extension": ".py",
   "mimetype": "text/x-python",
   "name": "python",
   "nbconvert_exporter": "python",
   "pygments_lexer": "ipython3",
   "version": "3.6.5"
  }
 },
 "nbformat": 4,
 "nbformat_minor": 2
}
