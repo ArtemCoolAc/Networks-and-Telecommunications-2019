{
 "cells": [
  {
   "cell_type": "code",
   "execution_count": 12,
   "metadata": {},
   "outputs": [
    {
     "name": "stdout",
     "output_type": "stream",
     "text": [
      "['0', '1', '2', '3', '4', '5', '6', '7', '8', '9']\n"
     ]
    }
   ],
   "source": [
    "import hashlib # для подсчета MD5 используем хорошую либу\n",
    "max_length = 5\n",
    "symbols_without_letters = [str(i) for i in range(10)]\n",
    "print(symbols_without_letters)"
   ]
  },
  {
   "cell_type": "code",
   "execution_count": 13,
   "metadata": {},
   "outputs": [],
   "source": [
    "# тут параметры, которые брались с RADIUS Access-Request и Access-Accept\n",
    "code = '01'\n",
    "ID = '06'\n",
    "length = '005e'\n",
    "request_authenticator = ''.join('1815ccaa3f2fb940562b39282fb59d4a'.split())\n",
    "code2 = '02'\n",
    "ID2 = '07'\n",
    "length2 = '0052'\n",
    "response_authenticator = ''.join('a5e0c3e08dab8556a6a2271958acbd11'.split())\n",
    "reply_attributes = ''.join('0606000000024f060302000419205fa3069b000001370001c0a83c6701c19319eabffa4000000000000000055012b3116060e890dbd59fa5f8ba04e64106'.split())\n"
   ]
  },
  {
   "cell_type": "code",
   "execution_count": 14,
   "metadata": {},
   "outputs": [
    {
     "name": "stdout",
     "output_type": "stream",
     "text": [
      "020700521815ccaa3f2fb940562b39282fb59d4a0606000000024f060302000419205fa3069b000001370001c0a83c6701c19319eabffa4000000000000000055012b3116060e890dbd59fa5f8ba04e64106\n"
     ]
    }
   ],
   "source": [
    "#shared_secret = 'xyzzy5461'\n",
    "#shared_secret = ''.join(list(map(lambda x: hex(ord(x))[2:], list(shared_secret))))\n",
    "shared1 = [f'{a}' for a in range(10)]\n",
    "shared2 = [f'{a}{b}' for a in range(10) for b in range(10)]\n",
    "shared3 = [f'{a}{b}{c}' for a in range(10) for b in range(10) for c in range(10)]\n",
    "shared4 = [f'{a}{b}{c}{d}' for a in range(10) for b in range(10) for c in range(10) for d in range(10)]\n",
    "shared5 = [f'{a}{b}{c}{d}{e}' for a in range(10) for b in range(10) for c in range(10) for d in range(10) for e in range(10)]\n",
    "shared_secrets = shared1 + shared2 + shared3 + shared4 + shared5\n",
    "#print(shared_secrets)\n",
    "response_authenticator_before = code2 + ID2 + length2 + request_authenticator + reply_attributes # эта строка+секрет и берем MD5\n",
    "print(response_authenticator_before)"
   ]
  },
  {
   "cell_type": "code",
   "execution_count": 15,
   "metadata": {},
   "outputs": [],
   "source": [
    "def calculate_hash(full_string):\n",
    "    return hashlib.md5(bytes.fromhex(full_string)).hexdigest()"
   ]
  },
  {
   "cell_type": "code",
   "execution_count": 17,
   "metadata": {},
   "outputs": [
    {
     "name": "stdout",
     "output_type": "stream",
     "text": [
      "Успех, секрет 52125\n"
     ]
    }
   ],
   "source": [
    "for shared_secret in shared_secrets:\n",
    "    shared_secret_hex = ''.join(list(map(lambda x: hex(ord(x))[2:], list(str(shared_secret))))) # приводим секрет к hex номерам в таблице ASCII\n",
    "    full = response_authenticator_before + shared_secret_hex\n",
    "    response = calculate_hash(str(full))\n",
    "    #print(\"Секрет {}, hash {}, строка {}\".format(shared_secret, response, full))\n",
    "    if response == response_authenticator: # подбор пароля)))\n",
    "        print(\"Успех, секрет {}\".format(shared_secret)) # я не делал break ради интереса (ну вдруг коллизия будет :D)"
   ]
  },
  {
   "cell_type": "code",
   "execution_count": 18,
   "metadata": {},
   "outputs": [],
   "source": [
    "# аналогично параметры для пароля согласно CHAP + MD5 = EAP MD5-challenge\n",
    "ID3 = '02'\n",
    "challenge = 'ce79ec7f045c5a9356c828b11f93c101'\n",
    "MD5_challenge = '99740999119bb0c6021d0741ff9365b4'"
   ]
  },
  {
   "cell_type": "code",
   "execution_count": 19,
   "metadata": {},
   "outputs": [
    {
     "name": "stdout",
     "output_type": "stream",
     "text": [
      "Успех, секрет 12521\n"
     ]
    }
   ],
   "source": [
    "for shared_secret in shared_secrets:\n",
    "    shared_secret_hex = ''.join(list(map(lambda x: hex(ord(x))[2:], list(str(shared_secret)))))\n",
    "    full = ID3 + shared_secret_hex + challenge\n",
    "    response = calculate_hash(str(full))\n",
    "    #print(\"Секрет {}, hash {}, строка {}\".format(shared_secret, response, full))\n",
    "    if response == MD5_challenge:\n",
    "        print(\"Успех, секрет {}\".format(shared_secret))"
   ]
  },
  {
   "cell_type": "code",
   "execution_count": 21,
   "metadata": {},
   "outputs": [
    {
     "name": "stdout",
     "output_type": "stream",
     "text": [
      "['0', '1', '2', '3', '4', '5', '6', '7', '8', '9', 'A', 'B', 'C', 'D', 'E', 'F']\n"
     ]
    }
   ],
   "source": [
    "symbols_with_letters = symbols_without_letters + [chr(i).upper() for i in range(ord('a'), ord('f') + 1)]\n",
    "print(symbols_with_letters)"
   ]
  },
  {
   "cell_type": "code",
   "execution_count": 12,
   "metadata": {},
   "outputs": [],
   "source": [
    "#я слышал, что набор символов ограничен, вот и славно [0-9A-F]"
   ]
  },
  {
   "cell_type": "code",
   "execution_count": 23,
   "metadata": {
    "scrolled": false
   },
   "outputs": [],
   "source": [
    "sharedr1 = [f'{a}' for a in symbols_with_letters]\n",
    "sharedr2 = [f'{a}{b}' for a in symbols_with_letters for b in symbols_with_letters]\n",
    "sharedr3 = [f'{a}{b}{c}' for a in symbols_with_letters for b in symbols_with_letters for c in symbols_with_letters]\n",
    "sharedr4 = [f'{a}{b}{c}{d}' for a in symbols_with_letters for b in symbols_with_letters for c in symbols_with_letters for d in symbols_with_letters]\n",
    "sharedr5 = [f'{a}{b}{c}{d}{e}' for a in symbols_with_letters for b in symbols_with_letters for c in symbols_with_letters for d in symbols_with_letters for e in symbols_with_letters]\n",
    "sharedr6 = [f'{a}{b}{c}{d}{e}{f}' for a in symbols_with_letters for b in symbols_with_letters for c in symbols_with_letters for d in symbols_with_letters for e in symbols_with_letters for f in symbols_with_letters]\n"
   ]
  },
  {
   "cell_type": "code",
   "execution_count": 24,
   "metadata": {},
   "outputs": [],
   "source": [
    "share_real_secret = sharedr1 + sharedr2 + sharedr3 + sharedr4 + sharedr5 + sharedr6"
   ]
  },
  {
   "cell_type": "code",
   "execution_count": 28,
   "metadata": {},
   "outputs": [],
   "source": [
    "request_authenticator_real = ''.join('72dcc0807ae24e691f8a0e8620bf8f97'.split())\n",
    "code2_real = '02'\n",
    "ID2_real = '5d'\n",
    "length2_real = '0052'\n",
    "response_authenticator_real = ''.join('db7c440fc66ab1800ba9ef0726d7fc8a'.split())\n",
    "reply_attributes_real = ''.join('0606000000024f060302000419203f05050a0000013700017f00000101c1923e5a3cf3fa000000000000003b5012c394daea155e03ea758451a300684b4d'.split())"
   ]
  },
  {
   "cell_type": "code",
   "execution_count": 29,
   "metadata": {},
   "outputs": [
    {
     "name": "stdout",
     "output_type": "stream",
     "text": [
      "025d005272dcc0807ae24e691f8a0e8620bf8f970606000000024f060302000419203f05050a0000013700017f00000101c1923e5a3cf3fa000000000000003b5012c394daea155e03ea758451a300684b4d\n"
     ]
    }
   ],
   "source": [
    "response_authenticator_before_real = code2_real + ID2_real + length2_real + request_authenticator_real + reply_attributes_real\n",
    "print(response_authenticator_before_real)"
   ]
  },
  {
   "cell_type": "code",
   "execution_count": 32,
   "metadata": {},
   "outputs": [
    {
     "name": "stdout",
     "output_type": "stream",
     "text": [
      "Успех, секрет DECADE\n"
     ]
    }
   ],
   "source": [
    "for shared_secret in share_real_secret:\n",
    "    shared_secret_hex = ''.join(list(map(lambda x: hex(ord(x))[2:], list(str(shared_secret)))))\n",
    "    full = response_authenticator_before_real + shared_secret_hex\n",
    "    response = calculate_hash(str(full))\n",
    "    #print(\"Секрет {}, hash {}, строка {}\".format(shared_secret, response, full))\n",
    "    if response == response_authenticator_real:\n",
    "        print(\"Успех, секрет {}\".format(shared_secret))"
   ]
  },
  {
   "cell_type": "code",
   "execution_count": 33,
   "metadata": {},
   "outputs": [],
   "source": [
    "ID3_real = '02'\n",
    "challenge_real = 'e014c19009c6c4f5283d251f5192c101'\n",
    "MD5_challenge_real = '995ac55ec9b14e9bbfab2f78b4dd5888'"
   ]
  },
  {
   "cell_type": "code",
   "execution_count": 34,
   "metadata": {},
   "outputs": [
    {
     "name": "stdout",
     "output_type": "stream",
     "text": [
      "Успех, секрет FACADE\n"
     ]
    }
   ],
   "source": [
    "for shared_secret in share_real_secret:\n",
    "    shared_secret_hex = ''.join(list(map(lambda x: hex(ord(x))[2:], list(str(shared_secret)))))\n",
    "    full = ID3_real + shared_secret_hex + challenge_real\n",
    "    response = calculate_hash(str(full))\n",
    "    #print(\"Секрет {}, hash {}, строка {}\".format(shared_secret, response, full))\n",
    "    if response == MD5_challenge_real:\n",
    "        print(\"Успех, секрет {}\".format(shared_secret))"
   ]
  },
  {
   "cell_type": "code",
   "execution_count": null,
   "metadata": {},
   "outputs": [],
   "source": []
  }
 ],
 "metadata": {
  "kernelspec": {
   "display_name": "Python 3",
   "language": "python",
   "name": "python3"
  },
  "language_info": {
   "codemirror_mode": {
    "name": "ipython",
    "version": 3
   },
   "file_extension": ".py",
   "mimetype": "text/x-python",
   "name": "python",
   "nbconvert_exporter": "python",
   "pygments_lexer": "ipython3",
   "version": "3.6.5"
  }
 },
 "nbformat": 4,
 "nbformat_minor": 2
}
