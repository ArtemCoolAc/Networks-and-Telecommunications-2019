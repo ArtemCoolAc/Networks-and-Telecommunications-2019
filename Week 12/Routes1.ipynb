{
 "cells": [
  {
   "cell_type": "code",
   "execution_count": 1,
   "metadata": {},
   "outputs": [],
   "source": [
    "import pprint\n",
    "import copy"
   ]
  },
  {
   "cell_type": "code",
   "execution_count": 2,
   "metadata": {},
   "outputs": [],
   "source": [
    "n = 874\n",
    "m = 849"
   ]
  },
  {
   "cell_type": "code",
   "execution_count": 3,
   "metadata": {},
   "outputs": [],
   "source": [
    "a = list()\n",
    "    \n",
    "for i in range(m):\n",
    "    a.append(list())\n",
    "    for j in range(n):\n",
    "        if i == 0 or j == 0:\n",
    "            a[i].append(1)\n",
    "        else:\n",
    "            a[i].append(0)     "
   ]
  },
  {
   "cell_type": "code",
   "execution_count": 4,
   "metadata": {},
   "outputs": [
    {
     "name": "stdout",
     "output_type": "stream",
     "text": [
      "862877029591655936337961688913710355777929569186113095270164099194836324282210799795347708832691593810714733132421834179349178368595229041661542272884092565125419881063497119123638772852025571562444289105362898499094853221469352147813170270090124853883046551003932504012157709045067667955756964928466821868781166180891286766994382817738471456098800414505679370253355790052674298080094510612279011392148763306462933419403515651515145331369660378941696857828893753606117005256420271303156658985103803935838367464047484792605642815287746481351620465613658309798193316521337782068675558463543865147373771243339875110829277637080648100106269399175727939988113313\n"
     ]
    }
   ],
   "source": [
    "b = copy.deepcopy(a)\n",
    "for i in range(1,m):\n",
    "    for j in range(1,n):\n",
    "        b[i][j] = b[i-1][j] + b[i][j-1] + b[i-1][j-1]\n",
    "print(b[-1][-1])"
   ]
  },
  {
   "cell_type": "code",
   "execution_count": null,
   "metadata": {},
   "outputs": [],
   "source": []
  }
 ],
 "metadata": {
  "kernelspec": {
   "display_name": "Python 3",
   "language": "python",
   "name": "python3"
  },
  "language_info": {
   "codemirror_mode": {
    "name": "ipython",
    "version": 3
   },
   "file_extension": ".py",
   "mimetype": "text/x-python",
   "name": "python",
   "nbconvert_exporter": "python",
   "pygments_lexer": "ipython3",
   "version": "3.6.5"
  }
 },
 "nbformat": 4,
 "nbformat_minor": 2
}
